{
 "cells": [
  {
   "cell_type": "markdown",
   "metadata": {},
   "source": [
    "**Content under Creative Commons Attribution license CC-BY 4.0, code under MIT license (c)2017. P. Fernandez, C. Cooper. Based on [BEM++](https://bempp.com/), also under MIT license.**\n",
    "\n",
    "# Solvation energy of a protein with a continuum electrostatic model\n",
    "\n",
    "## Background\n",
    "\n",
    "The energy required to dissolve a molecule (that is, moving it from vacuum into a solvent), is known as the solvation energy. This quantity is of interest in several biomolecular applications, like binding, stability, pKa calculations, among other. In a continuum electrostatic description, the dissolved biomolecule can be modeled with two dielectric regions interfaced by a molecular surface: an outer *solvent* region, usually comprised of water and salt ions, and an inner *protein* region, where the solvent cannot access, which contains point charges at the locations of the atoms.  \n",
    "\n",
    "<img src=\"sketch_protein.png\", style=\"width:300px\">\n",
    "\n",
    "Mathematically, the model describes the electrostatic potential with a system of partial differential equations. The protein region ($\\Omega_1$) is governed by a Poisson equation with a source term due to the partial charges of the atoms, whereas the solvent region ($\\Omega_2$) uses a Poisson-Boltzmann equation (also known as modified Helmholtz equation) to account for the presence of salt. Then, we can calculate the electrostatic potential $\\phi$ by\n",
    "\n",
    "**Interior**\n",
    "$$ \\nabla^2 \\phi_1 (x) = \\sum_k q_k \\delta (x_k)  $$\n",
    "**Exterior**\n",
    "$$ \\nabla^2 \\phi_2 (x) - \\kappa \\phi_2 (x) = 0  $$\n",
    "\n",
    "with $q_k$ and $x_k$ as charge and position of each molecule atom, $\\kappa$ is the inverse of the Debye length. On the molecular surface, we impose the following interface conditions:\n",
    "\n",
    "$$ \\phi_{1} = \\phi_{2} \n",
    "\\hspace{40pt}\n",
    "\\epsilon_{1} \\frac{\\partial \\phi_{1}}{\\partial \\textrm{ n}} = \\epsilon_{2} \\frac{\\partial \\phi_{2}}{\\partial \\textrm{ n}} $$\n",
    "\n",
    "Following the work by Yoon and Lenhoff [1], the system of PDEs with interface conditions can be formulated in terms of the following boundary integral equations:\n",
    "\n",
    "**Interior**\n",
    "$$ \\frac{\\phi_1(x)}{2} + \n",
    "\\int_\\Gamma \\frac{\\partial G_L}{\\partial \\textrm{ n}}(x,x_\\Gamma) \\phi_1 (x_\\Gamma) \\textrm{d} x_\\Gamma - \n",
    "\\int_\\Gamma G_L\\left( x,x_\\Gamma \\right) \\frac{\\partial \\phi_1}{\\partial \\textrm{ n}} (x_\\Gamma) \\textrm{d} x_\\Gamma\n",
    "= \\sum_k \\frac{q_k}{4\\pi |x-x_k|} $$\n",
    "\n",
    "**Exterior**\n",
    "$$ \\frac{\\phi_1(x)}{2} - \n",
    "\\int_\\Gamma \\frac{\\partial G_Y}{\\partial \\textrm{ n}}(x,x_\\Gamma) \\phi_1 (x_\\Gamma) \\textrm{d} x_\\Gamma + \n",
    "\\frac{\\epsilon_1}{\\epsilon_2}\\int_\\Gamma G_Y(x,x_\\Gamma) \\frac{\\partial \\phi_1}{\\partial \\textrm{ n}} (x_\\Gamma) \\textrm{d} x_\\Gamma \n",
    "= 0$$\n",
    "\n",
    "In terms of boundary operators, this can be written as\n",
    "\n",
    "$$\n",
    "\\begin{bmatrix}\n",
    "    \\frac{I}{2} + K_L &  -V_L \\\\\n",
    "    \\frac{I}{2} - K_Y &  \\frac{\\epsilon_1}{\\epsilon_2}V_Y\n",
    "\\end{bmatrix}\n",
    "\\left\\{\n",
    "\\begin{matrix}\n",
    "    \\phi_1 \\\\\n",
    "    \\frac{\\partial \\phi_1}{\\partial \\textrm{ n}}\n",
    "\\end{matrix}\n",
    "\\right\\}\n",
    "= \\left\\{\n",
    "\\begin{matrix}\n",
    "    \\sum_k q_k \\\\\n",
    "    0\n",
    "\\end{matrix}\n",
    "\\right\\}\n",
    "$$\n",
    "\n",
    "where $V_L$ and $K_L$ are the single and double layer operators for the Laplace kernel (Poisson equation) and $V_Y$ and $K_Y$ are the corresponding operators for the Yukawa kernel (Poisson-Boltzmann or modified Helmholtz equation).\n",
    "\n",
    "From there, we can compute the *reaction potential* ($\\phi_\\text{reac} = \\phi_1-\\phi_\\text{Coulomb}$) at the locations of the atoms with\n",
    "\n",
    "$$\\phi_\\text{reac} = \n",
    "\\int_\\Gamma G_L(x_k,x_\\Gamma) \\frac{\\partial \\phi}{\\partial \\textrm{ n}} (x_\\Gamma) \\textrm{d} x_\\Gamma - \n",
    "\\int_\\Gamma \\frac{\\partial G_L}{\\partial \\textrm{ n}}(x_k,x_\\Gamma) \\phi (x_\\Gamma) \\textrm{d} x_\\Gamma $$\n",
    "\n",
    "which can be written in terms of operators as\n",
    "\n",
    "$$\\phi_k = K_L\\left[ \\frac{\\partial \\phi}{\\partial n} \\right] - V_L \\left[ \\phi \\right] $$,\n",
    "       \n",
    "to then obtain the solvation energy as\n",
    "       \n",
    "$$ \\Delta G_\\text{solv} = \\frac{1}{2} \\sum_{k=1}^{N_q} q_k \\phi_\\text{reac}(x_k) $$"
   ]
  },
  {
   "cell_type": "markdown",
   "metadata": {},
   "source": [
    "## Example\n",
    "\n",
    "### Molecular structure and mesh\n",
    "\n",
    "As an example, we will calculate the solvation energy of the bovine pancreatic trypsin inhibitor. The molecular crystal structure is available the protein data bank ([PDB code 5PTI](https://www.rcsb.org/pdb/explore.do?structureId=5PTI)), and we obtained the atomic radii and charges with [pdb2pqr](http://www.poissonboltzmann.org/) [2], resulting in a `.pqr` file.\n",
    "\n",
    "There are several molecular surface definitions to put the interface conditions. In this case, we use the *solvent-excluded surface* (SES), which is the result of rolling a spherical probe of the size of a water molecule around the protein, and tracking the contact points. We mesh the SES with [`msms`](http://mgl.scripps.edu/people/sanner/html/msms_home.html) [3], and reformat the result to a `.msh` file with `GridFactory()`. \n",
    "\n",
    "First, let's import the required libraries and mesh"
   ]
  },
  {
   "cell_type": "code",
   "execution_count": 1,
   "metadata": {
    "collapsed": true,
    "scrolled": true
   },
   "outputs": [],
   "source": [
    "import bempp.api\n",
    "#bempp.api.set_ipython_notebook_viewer()\n",
    "\n",
    "grid = bempp.api.import_grid('5pti_d1.msh')\n",
    "#grid.plot()"
   ]
  },
  {
   "cell_type": "markdown",
   "metadata": {},
   "source": [
    "<img src=\"5pti_mesh.png\", style=\"width:400px\">"
   ]
  },
  {
   "cell_type": "markdown",
   "metadata": {},
   "source": [
    "and read the `.pqr` file for the charges."
   ]
  },
  {
   "cell_type": "code",
   "execution_count": 2,
   "metadata": {
    "collapsed": true
   },
   "outputs": [],
   "source": [
    "import numpy as np\n",
    "q, x_q = np.array([]), np.empty((0,3))\n",
    "\n",
    "ep_in = 4.\n",
    "ep_ex = 80.\n",
    "k = 0.125\n",
    "\n",
    "# Read charges and coordinates from the .pqr file\n",
    "molecule_file = open('5pti.pqr', 'r').read().split('\\n')\n",
    "for line in molecule_file:\n",
    "    line = line.split()\n",
    "    if len(line)==0 or line[0]!='ATOM': continue\n",
    "    q = np.append( q, float(line[8]))\n",
    "    x_q = np.vstack(( x_q, np.array(line[5:8]).astype(float) ))"
   ]
  },
  {
   "cell_type": "markdown",
   "metadata": {},
   "source": [
    "### Right-hand side\n",
    "\n",
    "With that, we can compute the potential due to the charges on the boundary, required for the right-hand side"
   ]
  },
  {
   "cell_type": "code",
   "execution_count": 3,
   "metadata": {
    "collapsed": true
   },
   "outputs": [],
   "source": [
    "# Function to calculate the potential by charges at boundary\n",
    "def charges_fun(x, n, domain_index, result):\n",
    "    global q, x_q, ep_in\n",
    "    result[:] = np.sum(q/np.linalg.norm( x - x_q, axis=1 ))/(4*np.pi*ep_in)\n",
    "\n",
    "dirichl_space = bempp.api.function_space(grid, \"DP\", 0)\n",
    "neumann_space = bempp.api.function_space(grid, \"DP\", 0)\n",
    "\n",
    "charged_grid_fun = bempp.api.GridFunction(dirichl_space, fun=charges_fun)\n",
    "#charged_grid_fun.plot()\n",
    "\n",
    "rhs = np.concatenate([charged_grid_fun.coefficients, \n",
    "                      np.zeros(neumann_space.global_dof_count)])\n"
   ]
  },
  {
   "cell_type": "markdown",
   "metadata": {},
   "source": [
    "### Operators and Matrix\n",
    "\n",
    "Next, we generate the $2\\times 2$ block matrix with the single and double layer operators of the Laplace and Yukawa kernels "
   ]
  },
  {
   "cell_type": "code",
   "execution_count": 4,
   "metadata": {
    "collapsed": true
   },
   "outputs": [],
   "source": [
    "# Define Operators\n",
    "from bempp.api.operators.boundary import sparse, laplace, modified_helmholtz\n",
    "identity = sparse.identity(dirichl_space, dirichl_space, dirichl_space)\n",
    "slp_in   = laplace.single_layer(neumann_space, dirichl_space, dirichl_space)\n",
    "dlp_in   = laplace.double_layer(dirichl_space, dirichl_space, dirichl_space)\n",
    "slp_out  = modified_helmholtz.single_layer(neumann_space, dirichl_space, dirichl_space, k)\n",
    "dlp_out  = modified_helmholtz.double_layer(dirichl_space, dirichl_space, dirichl_space, k)\n",
    "\n",
    "# Matrix Assembly\n",
    "blocked = bempp.api.BlockedOperator(2, 2)\n",
    "blocked[0, 0] = 0.5*identity + dlp_in\n",
    "blocked[0, 1] = -slp_in\n",
    "blocked[1, 0] = 0.5*identity - dlp_out\n",
    "blocked[1, 1] = (ep_in/ep_ex)*slp_out\n",
    "op_discrete = blocked.strong_form()"
   ]
  },
  {
   "cell_type": "markdown",
   "metadata": {},
   "source": [
    "### Solver\n",
    "\n",
    "We now use `gmres` from `scipy` to solve the system. "
   ]
  },
  {
   "cell_type": "code",
   "execution_count": 5,
   "metadata": {
    "collapsed": false
   },
   "outputs": [
    {
     "name": "stdout",
     "output_type": "stream",
     "text": [
      "The linear system was solved in 107 iterations\n"
     ]
    }
   ],
   "source": [
    "import inspect\n",
    "from scipy.sparse.linalg import gmres\n",
    "\n",
    "array_it, array_frame, it_count = np.array([]), np.array([]), 0\n",
    "def iteration_counter(x):\n",
    "        global array_it, array_frame, it_count\n",
    "        it_count += 1\n",
    "        frame = inspect.currentframe().f_back\n",
    "        array_it = np.append(array_it, it_count)\n",
    "        array_frame = np.append(array_frame, frame.f_locals[\"resid\"])\n",
    "        #print \"It: {0} Error {1:.2E}\".format(it_count, frame.f_locals[\"resid\"])        \n",
    "\n",
    "x, info = gmres(op_discrete, rhs, callback=iteration_counter, tol=1e-3, maxiter=500, restart = 1000)\n",
    "\n",
    "print(\"The linear system was solved in {0} iterations\".format(it_count))"
   ]
  },
  {
   "cell_type": "markdown",
   "metadata": {},
   "source": [
    "The two following `GridFunction` calls store the calculated boundary potential data (separated by $\\phi$ and $\\frac{\\partial \\phi}{\\partial n}$) for visualization purposes. "
   ]
  },
  {
   "cell_type": "code",
   "execution_count": 6,
   "metadata": {
    "collapsed": true
   },
   "outputs": [],
   "source": [
    "solution_dirichl = bempp.api.GridFunction(dirichl_space, \n",
    "                                          coefficients=x[:dirichl_space.global_dof_count])\n",
    "solution_neumann = bempp.api.GridFunction(neumann_space, \n",
    "                                          coefficients=x[dirichl_space.global_dof_count:])\n",
    "#solution_dirichl.plot()"
   ]
  },
  {
   "cell_type": "markdown",
   "metadata": {},
   "source": [
    "which should give something like:\n",
    "\n",
    "<img src=\"5pti_solu.png\", style=\"width:300px\">"
   ]
  },
  {
   "cell_type": "markdown",
   "metadata": {},
   "source": [
    "### Energy calculaton\n",
    "\n",
    "To compute $\\phi_\\text{reac}$ at the atoms locations, we use `operators.potential` to then multiply by the charge and add to compute $\\Delta G_\\text{solv}$. The `332.064` term is just a unit conversion constant."
   ]
  },
  {
   "cell_type": "code",
   "execution_count": 7,
   "metadata": {
    "collapsed": false
   },
   "outputs": [
    {
     "name": "stdout",
     "output_type": "stream",
     "text": [
      "Total solvation energy: -352.67 [kcal/Mol]\n"
     ]
    }
   ],
   "source": [
    "slp_q = bempp.api.operators.potential.laplace.single_layer(neumann_space, x_q.transpose())\n",
    "dlp_q = bempp.api.operators.potential.laplace.double_layer(dirichl_space, x_q.transpose())\n",
    "phi_q = slp_q*solution_neumann - dlp_q*solution_dirichl\n",
    "\n",
    "# total dissolution energy applying constant to get units [kcal/mol]\n",
    "total_energy = 2*np.pi*332.064*np.sum(q*phi_q).real\n",
    "print(\"Total solvation energy: {:7.2f} [kcal/Mol]\".format(total_energy))"
   ]
  },
  {
   "cell_type": "markdown",
   "metadata": {},
   "source": [
    "## References\n",
    "[1] Yoon, B. J., & Lenhoff, A. M. (1990). A boundary element method for molecular electrostatics with electrolyte effects. *Journal of Computational Chemistry*, 11(9), 1080-1086.\n",
    "\n",
    "[2] Dolinsky, T. J., Nielsen, J. E., McCammon, J. A., & Baker, N. A. (2004). PDB2PQR: an automated pipeline for the setup of Poisson–Boltzmann electrostatics calculations. *Nucleic acids research*, 32(suppl_2), W665-W667.\n",
    "\n",
    "[3] Sanner, M. F., Olson, A. J., & Spehner, J. C. (1995, September). Fast and robust computation of molecular surfaces. In *Proceedings of the eleventh annual symposium on Computational geometry* (pp. 406-407). ACM."
   ]
  },
  {
   "cell_type": "code",
   "execution_count": null,
   "metadata": {
    "collapsed": true
   },
   "outputs": [],
   "source": []
  }
 ],
 "metadata": {
  "kernelspec": {
   "display_name": "Python 2",
   "language": "python",
   "name": "python2"
  },
  "language_info": {
   "codemirror_mode": {
    "name": "ipython",
    "version": 2
   },
   "file_extension": ".py",
   "mimetype": "text/x-python",
   "name": "python",
   "nbconvert_exporter": "python",
   "pygments_lexer": "ipython2",
   "version": "2.7.6"
  }
 },
 "nbformat": 4,
 "nbformat_minor": 2
}
