{
 "cells": [
  {
   "cell_type": "markdown",
   "metadata": {},
   "source": [
    "# Dissolution energy of a molecule immerse in a dielectric medium\n",
    "\n",
    "## Background\n",
    "\n",
    "In a general description, the energy of an immerse molecule can be calculated by considering two main regions: \n",
    "the molecule region, in which the atoms radius doesn't allow to access the water molecules and salt ions surrounding it. The exterior region is an infinite and continuous saltwater solvent.\n",
    "The model proposses a PDE system, the first equation is a Poisson field with a set of atoms (molecule to study), and the second is a mod-Helmholtz/Poisson-Boltzmann/Yukawa field simulating a simplified model of saltwater surrounding the molecule. \n",
    "So we can calculate the electrostatic potential $\\phi$ solving the following system.\n",
    "\n",
    "**Interior**\n",
    "$$ \\nabla^2 \\phi_1 (x) = \\sum_k q_k \\delta (x_k)  $$\n",
    "**Exterior**\n",
    "$$ \\nabla^2 \\phi_2 (x) - \\kappa \\phi_2 (x) = 0  $$\n",
    "\n",
    "with $q_k$ and $x_k$ as charge and position of each molecule atom, $\\kappa$ is the inverse of Debye length\n",
    "\n",
    "** Boundary Condition **\n",
    "$$ \\phi_{1} = \\phi_{2} \n",
    "\\hspace{40pt}\n",
    "\\epsilon_{1} \\frac{\\partial \\phi_{1}}{\\partial \\textrm{ n}} = \\epsilon_{2} \\frac{\\partial \\phi_{2}}{\\partial \\textrm{ n}} $$\n",
    "\n",
    "In the integral formulation appear different Green's functions corresponding to each field.\n",
    "\n",
    "**Interior**\n",
    "$$ \\frac{\\phi(x)}{2} + \n",
    "\\int_\\Gamma \\frac{\\partial G_L}{\\partial \\textrm{ n}}(x,x_\\Gamma) \\phi (x_\\Gamma) \\textrm{d} x_\\Gamma - \n",
    "\\int_\\Gamma G_L\\left( x,x_\\Gamma \\right) \\frac{\\partial \\phi}{\\partial \\textrm{ n}} (x_\\Gamma) \\textrm{d} x_\\Gamma\n",
    "= \\sum_k \\frac{q_k}{4\\pi |x-x_k|} $$\n",
    "\n",
    "**Exterior**\n",
    "$$ \\frac{\\phi(x)}{2} - \n",
    "\\int_\\Gamma \\frac{\\partial G_Y}{\\partial \\textrm{ n}}(x,x_\\Gamma) \\phi (x_\\Gamma) \\textrm{d} x_\\Gamma + \n",
    "\\int_\\Gamma G_Y(x,x_\\Gamma) \\frac{\\partial \\phi}{\\partial \\textrm{ n}} (x_\\Gamma) \\textrm{d} x_\\Gamma \n",
    "= 0$$\n",
    "\n",
    "Applying boundary condition in terms of $\\phi_1$ and writing the system in vector form, we obtain the problem to solve\n",
    "\n",
    "$$\n",
    "\\begin{bmatrix}\n",
    "    \\frac{I}{2} + K_L &  -V_L \\\\\n",
    "    \\frac{I}{2} - K_Y &  \\frac{\\epsilon_1}{\\epsilon_2}V_Y\n",
    "\\end{bmatrix}\n",
    "\\left\\{\n",
    "\\begin{matrix}\n",
    "    \\phi \\\\\n",
    "    \\frac{\\partial \\phi}{\\partial \\textrm{ n}}\n",
    "\\end{matrix}\n",
    "\\right\\}\n",
    "= \\left\\{\n",
    "\\begin{matrix}\n",
    "    \\sum_k q_k \\\\\n",
    "    0\n",
    "\\end{matrix}\n",
    "\\right\\}\n",
    "$$\n",
    "\n",
    "once obtained the result, the potential at the atoms positions can be obtained with a direct evaluation.\n",
    "\n",
    "$$\\phi_k = \n",
    "\\int_\\Gamma G_L(x_k,x_\\Gamma) \\frac{\\partial \\phi}{\\partial \\textrm{ n}} (x_\\Gamma) \\textrm{d} x_\\Gamma - \n",
    "\\int_\\Gamma \\frac{\\partial G_L}{\\partial \\textrm{ n}}(x_k,x_\\Gamma) \\phi (x_\\Gamma) \\textrm{d} x_\\Gamma $$\n",
    "       \n",
    "and finally, the dissolution energy can be obtained integrating over the molecule region\n",
    "       \n",
    "$$ E = \\frac{1}{2} \\int_\\Omega q_k \\phi(x_k) \\textrm{ d }x_\\Omega $$\n",
    "\n",
    "For deeper understanding of the method and its derivation, please go to **here**[**?**]"
   ]
  },
  {
   "cell_type": "markdown",
   "metadata": {},
   "source": [
    "## Implementation\n",
    "\n",
    "In this example we use a *molecule* 5PTI, a structure of bovine pancreatic trypsin inhibitor.[**?**]\n",
    "\n",
    "### Excluded surface\n",
    "\n",
    "The surface used to delimit both regions, its called Solvent Excluded Surface, and can be obtain with programs like `msms` or `nanoshaper`[**?**] and formated with the `GridFactory()` method. For simplicity in this example the geometry its imported. "
   ]
  },
  {
   "cell_type": "code",
   "execution_count": 1,
   "metadata": {},
   "outputs": [],
   "source": [
    "import numpy as np\n",
    "import bempp.api\n",
    "\n",
    "grid = bempp.api.import_grid('5pti_d1.msh')\n",
    "grid.plot()"
   ]
  },
  {
   "cell_type": "markdown",
   "metadata": {},
   "source": [
    "### Electrostatic potential on surface\n",
    "The charges and positions of the set of atoms, can be obtain from a `.pqr` file, obtained from files availables on the Protein Data Bank [**?**].\n",
    "To calculate the RHS of the system its needed proyect every atom charge to every boundary element, using the `GridFunction` method."
   ]
  },
  {
   "cell_type": "code",
   "execution_count": 2,
   "metadata": {
    "collapsed": true
   },
   "outputs": [],
   "source": [
    "q, x_q = np.array([]), np.empty((0,3))\n",
    "\n",
    "ep_in = 4.\n",
    "ep_ex = 80.\n",
    "k = 0.125\n",
    "\n",
    "# Read charges and coordinates from the .pqr file\n",
    "molecule_file = open('5pti.pqr', 'r').read().split('\\n')\n",
    "for line in molecule_file:\n",
    "    line = line.split()\n",
    "    if len(line)==0 or line[0]!='ATOM': continue\n",
    "    q = np.append( q, float(line[8]))\n",
    "    x_q = np.vstack(( x_q, np.array(line[5:8]).astype(float) ))\n",
    "\n",
    "# Function to calculate the potential by charges at boundary\n",
    "def charges_fun(x, n, domain_index, result):\n",
    "    global q, x_q, ep_in\n",
    "    result[:] = np.sum(q/np.linalg.norm( x - x_q, axis=1 ))/(4*np.pi*ep_in)\n",
    "\n",
    "dirichl_space = bempp.api.function_space(grid, \"DP\", 0)\n",
    "neumann_space = bempp.api.function_space(grid, \"DP\", 0)\n",
    "\n",
    "charged_grid_fun = bempp.api.GridFunction(dirichl_space, fun=charges_fun)\n",
    "charged_grid_fun.plot()\n",
    "\n",
    "rhs = np.concatenate([charged_grid_fun.coefficients, \n",
    "                      np.zeros(neumann_space.global_dof_count)])"
   ]
  },
  {
   "cell_type": "markdown",
   "metadata": {},
   "source": [
    "### Operators and Matrix\n",
    "\n",
    "The following lines creates the operator over the previously defined spaces, and assemble the equation system."
   ]
  },
  {
   "cell_type": "code",
   "execution_count": 3,
   "metadata": {
    "collapsed": true
   },
   "outputs": [],
   "source": [
    "# Define Operators\n",
    "from bempp.api.operators.boundary import sparse, laplace, modified_helmholtz\n",
    "identity = sparse.identity(dirichl_space, dirichl_space, dirichl_space)\n",
    "slp_in   = laplace.single_layer(neumann_space, dirichl_space, dirichl_space)\n",
    "dlp_in   = laplace.double_layer(dirichl_space, dirichl_space, dirichl_space)\n",
    "slp_out  = modified_helmholtz.single_layer(neumann_space, dirichl_space, dirichl_space, k)\n",
    "dlp_out  = modified_helmholtz.double_layer(dirichl_space, dirichl_space, dirichl_space, k)\n",
    "\n",
    "# Matrix Assembly\n",
    "blocked = bempp.api.BlockedOperator(2, 2)\n",
    "blocked[0, 0] = 0.5*identity + dlp_in\n",
    "blocked[0, 1] = -slp_in\n",
    "blocked[1, 0] = 0.5*identity - dlp_out\n",
    "blocked[1, 1] = (ep_in/ep_ex)*slp_out\n",
    "op_discrete = blocked.strong_form()"
   ]
  },
  {
   "cell_type": "markdown",
   "metadata": {},
   "source": [
    "### Solver\n",
    "\n",
    "We use `gmres` of `scipy` to solve the system, for a better convergence study of the method is used an iteration counter and a frame registration."
   ]
  },
  {
   "cell_type": "code",
   "execution_count": 5,
   "metadata": {},
   "outputs": [
    {
     "name": "stdout",
     "output_type": "stream",
     "text": [
      "It: 1 Error 9.99E-01\n",
      "It: 2 Error 3.52E-01\n",
      "It: 3 Error 3.31E-01\n",
      "It: 4 Error 2.20E-01\n",
      "It: 5 Error 2.05E-01\n",
      "It: 6 Error 1.41E-01\n",
      "It: 7 Error 1.22E-01\n",
      "It: 8 Error 1.01E-01\n",
      "It: 9 Error 9.12E-02\n",
      "It: 10 Error 7.60E-02\n",
      "It: 11 Error 6.97E-02\n",
      "It: 12 Error 5.68E-02\n",
      "It: 13 Error 5.02E-02\n",
      "It: 14 Error 4.21E-02\n",
      "It: 15 Error 3.88E-02\n",
      "It: 16 Error 3.38E-02\n",
      "It: 17 Error 3.03E-02\n",
      "It: 18 Error 2.80E-02\n",
      "It: 19 Error 2.45E-02\n",
      "It: 20 Error 2.31E-02\n",
      "It: 21 Error 2.02E-02\n",
      "It: 22 Error 1.86E-02\n",
      "It: 23 Error 1.68E-02\n",
      "It: 24 Error 1.57E-02\n",
      "It: 25 Error 1.45E-02\n",
      "It: 26 Error 1.35E-02\n",
      "It: 27 Error 1.29E-02\n",
      "It: 28 Error 1.17E-02\n",
      "It: 29 Error 1.12E-02\n",
      "It: 30 Error 9.94E-03\n",
      "It: 31 Error 9.72E-03\n",
      "It: 32 Error 8.41E-03\n",
      "It: 33 Error 8.19E-03\n",
      "It: 34 Error 7.56E-03\n",
      "It: 35 Error 7.29E-03\n",
      "It: 36 Error 6.81E-03\n",
      "It: 37 Error 6.41E-03\n",
      "It: 38 Error 6.22E-03\n",
      "It: 39 Error 5.82E-03\n",
      "It: 40 Error 5.75E-03\n",
      "It: 41 Error 5.25E-03\n",
      "It: 42 Error 5.17E-03\n",
      "It: 43 Error 4.75E-03\n",
      "It: 44 Error 4.62E-03\n",
      "It: 45 Error 4.33E-03\n",
      "It: 46 Error 4.18E-03\n",
      "It: 47 Error 4.00E-03\n",
      "It: 48 Error 3.79E-03\n",
      "It: 49 Error 3.71E-03\n",
      "It: 50 Error 3.55E-03\n",
      "It: 51 Error 3.48E-03\n",
      "It: 52 Error 3.36E-03\n",
      "It: 53 Error 3.30E-03\n",
      "It: 54 Error 3.21E-03\n",
      "It: 55 Error 3.11E-03\n",
      "It: 56 Error 3.04E-03\n",
      "It: 57 Error 2.89E-03\n",
      "It: 58 Error 2.84E-03\n",
      "It: 59 Error 2.68E-03\n",
      "It: 60 Error 2.63E-03\n",
      "It: 61 Error 2.52E-03\n",
      "It: 62 Error 2.45E-03\n",
      "It: 63 Error 2.35E-03\n",
      "It: 64 Error 2.27E-03\n",
      "It: 65 Error 2.20E-03\n",
      "It: 66 Error 2.13E-03\n",
      "It: 67 Error 2.09E-03\n",
      "It: 68 Error 2.00E-03\n",
      "It: 69 Error 1.96E-03\n",
      "It: 70 Error 1.88E-03\n",
      "It: 71 Error 1.85E-03\n",
      "It: 72 Error 1.78E-03\n",
      "It: 73 Error 1.74E-03\n",
      "It: 74 Error 1.68E-03\n",
      "It: 75 Error 1.63E-03\n",
      "It: 76 Error 1.59E-03\n",
      "It: 77 Error 1.56E-03\n",
      "It: 78 Error 1.52E-03\n",
      "It: 79 Error 1.50E-03\n",
      "It: 80 Error 1.47E-03\n",
      "It: 81 Error 1.44E-03\n",
      "It: 82 Error 1.41E-03\n",
      "It: 83 Error 1.38E-03\n",
      "It: 84 Error 1.36E-03\n",
      "It: 85 Error 1.33E-03\n",
      "It: 86 Error 1.31E-03\n",
      "It: 87 Error 1.29E-03\n",
      "It: 88 Error 1.28E-03\n",
      "It: 89 Error 1.26E-03\n",
      "It: 90 Error 1.24E-03\n",
      "It: 91 Error 1.22E-03\n",
      "It: 92 Error 1.20E-03\n",
      "It: 93 Error 1.17E-03\n",
      "It: 94 Error 1.15E-03\n",
      "It: 95 Error 1.12E-03\n",
      "It: 96 Error 1.10E-03\n",
      "It: 97 Error 1.09E-03\n",
      "It: 98 Error 1.07E-03\n",
      "It: 99 Error 1.06E-03\n",
      "It: 100 Error 1.04E-03\n",
      "It: 101 Error 1.04E-03\n",
      "It: 102 Error 1.02E-03\n",
      "It: 103 Error 1.01E-03\n",
      "It: 104 Error 9.84E-04\n",
      "The linear system was solved in 104 iterations\n"
     ]
    }
   ],
   "source": [
    "import inspect\n",
    "from scipy.sparse.linalg import gmres\n",
    "array_it, array_frame, it_count = np.array([]), np.array([]), 0\n",
    "def iteration_counter(x):\n",
    "        global array_it, array_frame, it_count\n",
    "        it_count += 1\n",
    "        frame = inspect.currentframe().f_back\n",
    "        array_it = np.append(array_it, it_count)\n",
    "        array_frame = np.append(array_frame, frame.f_locals[\"resid\"])\n",
    "        print \"It: {0} Error {1:.2E}\".format(it_count, frame.f_locals[\"resid\"])        \n",
    "\n",
    "x, info = gmres(op_discrete, rhs, callback=iteration_counter, \n",
    "                tol=1e-3, maxiter=500, restart = 1000)\n",
    "\n",
    "print(\"The linear system was solved in {0} iterations\".format(it_count))"
   ]
  },
  {
   "cell_type": "markdown",
   "metadata": {},
   "source": [
    "The two following `GridFunction` stores the calculated boundary potential data (separate $\\phi$ and $\\frac{\\partial \\phi}{\\partial n}$) so it can be visualizated. "
   ]
  },
  {
   "cell_type": "code",
   "execution_count": 7,
   "metadata": {},
   "outputs": [
    {
     "name": "stderr",
     "output_type": "stream",
     "text": [
      "/usr/lib/python2.7/dist-packages/numpy/core/numeric.py:694: ComplexWarning: Casting complex values to real discards the imaginary part\n",
      "  arr = array(a, dtype=dtype, order=order, copy=False, subok=subok)\n"
     ]
    }
   ],
   "source": [
    "solution_dirichl = bempp.api.GridFunction(dirichl_space, \n",
    "                                          coefficients=x[:dirichl_space.global_dof_count])\n",
    "solution_neumann = bempp.api.GridFunction(neumann_space, \n",
    "                                          coefficients=x[dirichl_space.global_dof_count:])\n",
    "solution_dirichl.plot()"
   ]
  },
  {
   "cell_type": "markdown",
   "metadata": {},
   "source": [
    "### Energy calculaton\n",
    "\n",
    "Its possible obtain the potential in the atoms position using the `operators.potential` method \n",
    "\n",
    "$$\\phi_k = K_L\\left[ \\frac{\\partial \\phi}{\\partial n} \\right] - V_L \\left[ \\phi \\right] $$ \n",
    "       \n",
    "and the total dissolution energy can be reduced from the integral to the sum of the atoms potentials and charges\n",
    "\n",
    "$$E = \\frac{1}{2} \\sum_k \\phi_k q_k$$"
   ]
  },
  {
   "cell_type": "code",
   "execution_count": 8,
   "metadata": {},
   "outputs": [
    {
     "name": "stdout",
     "output_type": "stream",
     "text": [
      "Total dissolution Energy: -352.84 [kcal/Mol]\n"
     ]
    }
   ],
   "source": [
    "slp_q = bempp.api.operators.potential.laplace.single_layer(neumann_space, x_q.transpose())\n",
    "dlp_q = bempp.api.operators.potential.laplace.double_layer(dirichl_space, x_q.transpose())\n",
    "phi_q = slp_q*solution_neumann - dlp_q*solution_dirichl\n",
    "\n",
    "# total dissolution energy applying constant to get units [kcal/mol]\n",
    "total_energy = 2*np.pi*332.064*np.sum(q*phi_q).real\n",
    "print(\"Total dissolution Energy: {:7.2f} [kcal/Mol]\".format(total_energy))"
   ]
  }
 ],
 "metadata": {
  "kernelspec": {
   "display_name": "Python 2",
   "language": "python",
   "name": "python2"
  },
  "language_info": {
   "codemirror_mode": {
    "name": "ipython",
    "version": 2
   },
   "file_extension": ".py",
   "mimetype": "text/x-python",
   "name": "python",
   "nbconvert_exporter": "python",
   "pygments_lexer": "ipython2",
   "version": "2.7.12"
  }
 },
 "nbformat": 4,
 "nbformat_minor": 2
}
